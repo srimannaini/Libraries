{
  "nbformat": 4,
  "nbformat_minor": 0,
  "metadata": {
    "colab": {
      "name": "Untitled3.ipynb",
      "provenance": [],
      "authorship_tag": "ABX9TyM8XojvspLoq8Fbzm/m0/Aa",
      "include_colab_link": true
    },
    "kernelspec": {
      "name": "python3",
      "display_name": "Python 3"
    }
  },
  "cells": [
    {
      "cell_type": "markdown",
      "metadata": {
        "id": "view-in-github",
        "colab_type": "text"
      },
      "source": [
        "<a href=\"https://colab.research.google.com/github/srimannaini/Libraries/blob/main/Pytorch.ipynb\" target=\"_parent\"><img src=\"https://colab.research.google.com/assets/colab-badge.svg\" alt=\"Open In Colab\"/></a>"
      ]
    },
    {
      "cell_type": "code",
      "metadata": {
        "id": "I07hAfbsSYEi"
      },
      "source": [
        "import torch\r\n",
        "import numpy as np"
      ],
      "execution_count": 1,
      "outputs": []
    },
    {
      "cell_type": "code",
      "metadata": {
        "colab": {
          "base_uri": "https://localhost:8080/",
          "height": 35
        },
        "id": "KmnNNQVLScVX",
        "outputId": "2737cf0f-d2c4-452d-f238-0d6fe126542c"
      },
      "source": [
        "torch.__version__"
      ],
      "execution_count": 2,
      "outputs": [
        {
          "output_type": "execute_result",
          "data": {
            "application/vnd.google.colaboratory.intrinsic+json": {
              "type": "string"
            },
            "text/plain": [
              "'1.7.0+cu101'"
            ]
          },
          "metadata": {
            "tags": []
          },
          "execution_count": 2
        }
      ]
    },
    {
      "cell_type": "code",
      "metadata": {
        "colab": {
          "base_uri": "https://localhost:8080/"
        },
        "id": "6bF44SuKShjU",
        "outputId": "2c3302e6-81e9-4f4c-e62b-19bb6f6d65ad"
      },
      "source": [
        "x=[1,2,3]\r\n",
        "array=np.array(x);array"
      ],
      "execution_count": 3,
      "outputs": [
        {
          "output_type": "execute_result",
          "data": {
            "text/plain": [
              "array([1, 2, 3])"
            ]
          },
          "metadata": {
            "tags": []
          },
          "execution_count": 3
        }
      ]
    },
    {
      "cell_type": "code",
      "metadata": {
        "colab": {
          "base_uri": "https://localhost:8080/"
        },
        "id": "p1CnwdRPSq0p",
        "outputId": "3a34497c-b8a9-45fe-a3e5-1a3051f6692b"
      },
      "source": [
        "tensor=torch.tensor(x)\r\n"
      ],
      "execution_count": 8,
      "outputs": [
        {
          "output_type": "execute_result",
          "data": {
            "text/plain": [
              "<module 'torch' from '/usr/local/lib/python3.6/dist-packages/torch/__init__.py'>"
            ]
          },
          "metadata": {
            "tags": []
          },
          "execution_count": 8
        }
      ]
    },
    {
      "cell_type": "code",
      "metadata": {
        "colab": {
          "base_uri": "https://localhost:8080/"
        },
        "id": "OvnX31S9Swwu",
        "outputId": "58c0a689-6f87-4806-ba55-d6491e6b001a"
      },
      "source": [
        "tensor"
      ],
      "execution_count": 9,
      "outputs": [
        {
          "output_type": "execute_result",
          "data": {
            "text/plain": [
              "tensor([1, 2, 3])"
            ]
          },
          "metadata": {
            "tags": []
          },
          "execution_count": 9
        }
      ]
    },
    {
      "cell_type": "code",
      "metadata": {
        "id": "iHmwjw2MTFIq",
        "outputId": "9be1d24d-cb86-416f-b6d0-6b5ba3cfc555",
        "colab": {
          "base_uri": "https://localhost:8080/"
        }
      },
      "source": [
        "array.shape,tensor.shape"
      ],
      "execution_count": 10,
      "outputs": [
        {
          "output_type": "execute_result",
          "data": {
            "text/plain": [
              "((3,), torch.Size([3]))"
            ]
          },
          "metadata": {
            "tags": []
          },
          "execution_count": 10
        }
      ]
    },
    {
      "cell_type": "code",
      "metadata": {
        "id": "tzOwB1lDTJNJ",
        "outputId": "d465cde8-90ba-45c2-dc8e-9eaa7fecece0",
        "colab": {
          "base_uri": "https://localhost:8080/"
        }
      },
      "source": [
        "array.mean()"
      ],
      "execution_count": 11,
      "outputs": [
        {
          "output_type": "execute_result",
          "data": {
            "text/plain": [
              "2.0"
            ]
          },
          "metadata": {
            "tags": []
          },
          "execution_count": 11
        }
      ]
    },
    {
      "cell_type": "code",
      "metadata": {
        "id": "O3WlLDivTQT1",
        "outputId": "73247c7b-89c6-4e36-f745-2980614c9134",
        "colab": {
          "base_uri": "https://localhost:8080/"
        }
      },
      "source": [
        "tensor"
      ],
      "execution_count": 12,
      "outputs": [
        {
          "output_type": "execute_result",
          "data": {
            "text/plain": [
              "tensor([1, 2, 3])"
            ]
          },
          "metadata": {
            "tags": []
          },
          "execution_count": 12
        }
      ]
    },
    {
      "cell_type": "code",
      "metadata": {
        "id": "Do-RjdMPTS8e",
        "outputId": "857489c0-d1fa-4fb0-b39f-8cd74056989f",
        "colab": {
          "base_uri": "https://localhost:8080/",
          "height": 166
        }
      },
      "source": [
        "tensor.mean()"
      ],
      "execution_count": 13,
      "outputs": [
        {
          "output_type": "error",
          "ename": "RuntimeError",
          "evalue": "ignored",
          "traceback": [
            "\u001b[0;31m---------------------------------------------------------------------------\u001b[0m",
            "\u001b[0;31mRuntimeError\u001b[0m                              Traceback (most recent call last)",
            "\u001b[0;32m<ipython-input-13-4e58022ef495>\u001b[0m in \u001b[0;36m<module>\u001b[0;34m()\u001b[0m\n\u001b[0;32m----> 1\u001b[0;31m \u001b[0mtensor\u001b[0m\u001b[0;34m.\u001b[0m\u001b[0mmean\u001b[0m\u001b[0;34m(\u001b[0m\u001b[0;34m)\u001b[0m\u001b[0;34m\u001b[0m\u001b[0;34m\u001b[0m\u001b[0m\n\u001b[0m",
            "\u001b[0;31mRuntimeError\u001b[0m: Can only calculate the mean of floating types. Got Long instead."
          ]
        }
      ]
    },
    {
      "cell_type": "code",
      "metadata": {
        "id": "wSFrliFhTU1f",
        "outputId": "9f49754b-c6a8-4be3-f7b7-5c815405e302",
        "colab": {
          "base_uri": "https://localhost:8080/"
        }
      },
      "source": [
        "tensor.float().mean()"
      ],
      "execution_count": 14,
      "outputs": [
        {
          "output_type": "execute_result",
          "data": {
            "text/plain": [
              "tensor(2.)"
            ]
          },
          "metadata": {
            "tags": []
          },
          "execution_count": 14
        }
      ]
    },
    {
      "cell_type": "code",
      "metadata": {
        "id": "JYGWfOdOTrH0"
      },
      "source": [
        "tensor=torch.randn((2,2))"
      ],
      "execution_count": 16,
      "outputs": []
    },
    {
      "cell_type": "code",
      "metadata": {
        "id": "Q27qhwYlT2zu",
        "outputId": "4b1e3385-b4e9-4963-8281-c9764d6f38a5",
        "colab": {
          "base_uri": "https://localhost:8080/"
        }
      },
      "source": [
        "tensor"
      ],
      "execution_count": 17,
      "outputs": [
        {
          "output_type": "execute_result",
          "data": {
            "text/plain": [
              "tensor([[ 0.0797,  0.1127],\n",
              "        [-1.0244, -1.0982]])"
            ]
          },
          "metadata": {
            "tags": []
          },
          "execution_count": 17
        }
      ]
    },
    {
      "cell_type": "code",
      "metadata": {
        "id": "zehF9YbbT9aj",
        "outputId": "e72d5570-293f-4228-deb7-51199f21e1b1",
        "colab": {
          "base_uri": "https://localhost:8080/"
        }
      },
      "source": [
        "(tensor@tensor) #matrix multiplication"
      ],
      "execution_count": 19,
      "outputs": [
        {
          "output_type": "execute_result",
          "data": {
            "text/plain": [
              "tensor([[-0.1091, -0.1148],\n",
              "        [ 1.0434,  1.0907]])"
            ]
          },
          "metadata": {
            "tags": []
          },
          "execution_count": 19
        }
      ]
    },
    {
      "cell_type": "code",
      "metadata": {
        "id": "jGs1jE8iUCFz",
        "outputId": "4ecd6322-e4c4-42ba-8489-095ef9ceb594",
        "colab": {
          "base_uri": "https://localhost:8080/"
        }
      },
      "source": [
        "(tensor@tensor).T   #transpose of a tensor"
      ],
      "execution_count": 21,
      "outputs": [
        {
          "output_type": "execute_result",
          "data": {
            "text/plain": [
              "tensor([[-0.1091,  1.0434],\n",
              "        [-0.1148,  1.0907]])"
            ]
          },
          "metadata": {
            "tags": []
          },
          "execution_count": 21
        }
      ]
    },
    {
      "cell_type": "code",
      "metadata": {
        "id": "82oY58e3UKUT"
      },
      "source": [
        "tensor=torch.tensor([1,1,23])"
      ],
      "execution_count": 22,
      "outputs": []
    },
    {
      "cell_type": "code",
      "metadata": {
        "id": "4ItymFs9UZnr",
        "outputId": "2bd588a4-922b-49e4-faea-7ca353f7b77f",
        "colab": {
          "base_uri": "https://localhost:8080/"
        }
      },
      "source": [
        "tensor.view((3,1))   #reshape"
      ],
      "execution_count": 24,
      "outputs": [
        {
          "output_type": "execute_result",
          "data": {
            "text/plain": [
              "tensor([[ 1],\n",
              "        [ 1],\n",
              "        [23]])"
            ]
          },
          "metadata": {
            "tags": []
          },
          "execution_count": 24
        }
      ]
    },
    {
      "cell_type": "code",
      "metadata": {
        "id": "vgoNXQCTUdB_"
      },
      "source": [
        "import torch\r\n",
        "from torch import nn\r\n",
        "import numpy as np\r\n",
        "import matplotlib.pyplot as plt\r\n",
        "import seaborn as sns\r\n",
        "sns.set_style('dark')"
      ],
      "execution_count": 58,
      "outputs": []
    },
    {
      "cell_type": "code",
      "metadata": {
        "id": "2sper9vPVnvP"
      },
      "source": [
        "data=np.random.multivariate_normal([3,4],[[1,0.7],[0.7,1]],size=200)\r\n",
        "x=data[:,0]\r\n",
        "y=data[:,1]"
      ],
      "execution_count": 59,
      "outputs": []
    },
    {
      "cell_type": "code",
      "metadata": {
        "id": "AxEuDfNFWCbe",
        "outputId": "5db98f8a-3c2e-4e0c-89e5-48d5917d36b9",
        "colab": {
          "base_uri": "https://localhost:8080/",
          "height": 283
        }
      },
      "source": [
        "plt.scatter(x,y,color='g')"
      ],
      "execution_count": 60,
      "outputs": [
        {
          "output_type": "execute_result",
          "data": {
            "text/plain": [
              "<matplotlib.collections.PathCollection at 0x7fd6e2a2fd30>"
            ]
          },
          "metadata": {
            "tags": []
          },
          "execution_count": 60
        },
        {
          "output_type": "display_data",
          "data": {
            "image/png": "[encoded data removed]",
            "text/plain": [
              "<Figure size 432x288 with 1 Axes>"
            ]
          },
          "metadata": {
            "tags": []
          }
        }
      ]
    },
    {
      "cell_type": "code",
      "metadata": {
        "id": "PVlvBbfKWuqp"
      },
      "source": [
        "x,y=torch.tensor(x),torch.tensor(y)"
      ],
      "execution_count": 61,
      "outputs": []
    },
    {
      "cell_type": "code",
      "metadata": {
        "id": "taSmYSJcXIlq"
      },
      "source": [
        "m=nn.Parameter(data=torch.randn(1))  #m,c are parameters now pytorch learns\r\n",
        "c=nn.Parameter(data=torch.randn(1))"
      ],
      "execution_count": 62,
      "outputs": []
    },
    {
      "cell_type": "code",
      "metadata": {
        "id": "lx7ndzSlXdVZ"
      },
      "source": [
        "y_Pred=m*x+c\r\n",
        "y_Pred"
      ],
      "execution_count": null,
      "outputs": []
    },
    {
      "cell_type": "code",
      "metadata": {
        "id": "FuAsu3YuXxfT",
        "outputId": "1e4bbd4f-9f4f-4ed9-bb91-9ae0748aec68",
        "colab": {
          "base_uri": "https://localhost:8080/",
          "height": 283
        }
      },
      "source": [
        "plt.scatter(x.numpy(),y.numpy(),color='g')  # x,y are pytorch we have to convert to numpy\r\n",
        "plt.scatter(x.numpy(),y_Pred.detach().numpy(),color='b')  #random intialization"
      ],
      "execution_count": 69,
      "outputs": [
        {
          "output_type": "execute_result",
          "data": {
            "text/plain": [
              "<matplotlib.collections.PathCollection at 0x7fd6e29664a8>"
            ]
          },
          "metadata": {
            "tags": []
          },
          "execution_count": 69
        },
        {
          "output_type": "display_data",
          "data": {
            "image/png": "[encoded data removed]",
            "text/plain": [
              "<Figure size 432x288 with 1 Axes>"
            ]
          },
          "metadata": {
            "tags": []
          }
        }
      ]
    },
    {
      "cell_type": "code",
      "metadata": {
        "id": "Odxy4od3YKtj"
      },
      "source": [
        "def mse(y_pred,y_true): ##loss\r\n",
        "  return ((y_Pred-y_true)**2).mean()"
      ],
      "execution_count": 65,
      "outputs": []
    },
    {
      "cell_type": "code",
      "metadata": {
        "id": "ScnuA6p0ZQzZ",
        "outputId": "32c1fe57-d678-410e-da16-b796702b37c6",
        "colab": {
          "base_uri": "https://localhost:8080/"
        }
      },
      "source": [
        "mse(y_Pred,y)"
      ],
      "execution_count": 66,
      "outputs": [
        {
          "output_type": "execute_result",
          "data": {
            "text/plain": [
              "tensor(63.1518, dtype=torch.float64, grad_fn=<MeanBackward0>)"
            ]
          },
          "metadata": {
            "tags": []
          },
          "execution_count": 66
        }
      ]
    },
    {
      "cell_type": "code",
      "metadata": {
        "id": "yTsTnwooZUrv",
        "outputId": "800a9e58-6b15-4335-c771-724d023ea059",
        "colab": {
          "base_uri": "https://localhost:8080/"
        }
      },
      "source": [
        "for i in range(100):\r\n",
        "  y_Pred=m*x+c\r\n",
        "  lr=1e-3\r\n",
        "\r\n",
        "  loss=mse(y_Pred,y)\r\n",
        "  loss.backward()\r\n",
        "  print(loss)\r\n",
        "  with torch.no_grad():\r\n",
        "     m-=lr*m.grad\r\n",
        "     c-=lr*c.grad\r\n",
        "\r\n",
        "     m.grad.zero_()\r\n",
        "     c.grad.zero_()\r\n"
      ],
      "execution_count": 67,
      "outputs": [
        {
          "output_type": "stream",
          "text": [
            "tensor(27.0842, dtype=torch.float64, grad_fn=<MeanBackward0>)\n",
            "tensor(25.9267, dtype=torch.float64, grad_fn=<MeanBackward0>)\n",
            "tensor(24.8199, dtype=torch.float64, grad_fn=<MeanBackward0>)\n",
            "tensor(23.7616, dtype=torch.float64, grad_fn=<MeanBackward0>)\n",
            "tensor(22.7497, dtype=torch.float64, grad_fn=<MeanBackward0>)\n",
            "tensor(21.7821, dtype=torch.float64, grad_fn=<MeanBackward0>)\n",
            "tensor(20.8570, dtype=torch.float64, grad_fn=<MeanBackward0>)\n",
            "tensor(19.9723, dtype=torch.float64, grad_fn=<MeanBackward0>)\n",
            "tensor(19.1265, dtype=torch.float64, grad_fn=<MeanBackward0>)\n",
            "tensor(18.3177, dtype=torch.float64, grad_fn=<MeanBackward0>)\n",
            "tensor(17.5443, dtype=torch.float64, grad_fn=<MeanBackward0>)\n",
            "tensor(16.8049, dtype=torch.float64, grad_fn=<MeanBackward0>)\n",
            "tensor(16.0978, dtype=torch.float64, grad_fn=<MeanBackward0>)\n",
            "tensor(15.4217, dtype=torch.float64, grad_fn=<MeanBackward0>)\n",
            "tensor(14.7753, dtype=torch.float64, grad_fn=<MeanBackward0>)\n",
            "tensor(14.1572, dtype=torch.float64, grad_fn=<MeanBackward0>)\n",
            "tensor(13.5662, dtype=torch.float64, grad_fn=<MeanBackward0>)\n",
            "tensor(13.0010, dtype=torch.float64, grad_fn=<MeanBackward0>)\n",
            "tensor(12.4607, dtype=torch.float64, grad_fn=<MeanBackward0>)\n",
            "tensor(11.9440, dtype=torch.float64, grad_fn=<MeanBackward0>)\n",
            "tensor(11.4499, dtype=torch.float64, grad_fn=<MeanBackward0>)\n",
            "tensor(10.9775, dtype=torch.float64, grad_fn=<MeanBackward0>)\n",
            "tensor(10.5258, dtype=torch.float64, grad_fn=<MeanBackward0>)\n",
            "tensor(10.0939, dtype=torch.float64, grad_fn=<MeanBackward0>)\n",
            "tensor(9.6809, dtype=torch.float64, grad_fn=<MeanBackward0>)\n",
            "tensor(9.2860, dtype=torch.float64, grad_fn=<MeanBackward0>)\n",
            "tensor(8.9084, dtype=torch.float64, grad_fn=<MeanBackward0>)\n",
            "tensor(8.5474, dtype=torch.float64, grad_fn=<MeanBackward0>)\n",
            "tensor(8.2022, dtype=torch.float64, grad_fn=<MeanBackward0>)\n",
            "tensor(7.8721, dtype=torch.float64, grad_fn=<MeanBackward0>)\n",
            "tensor(7.5565, dtype=torch.float64, grad_fn=<MeanBackward0>)\n",
            "tensor(7.2547, dtype=torch.float64, grad_fn=<MeanBackward0>)\n",
            "tensor(6.9661, dtype=torch.float64, grad_fn=<MeanBackward0>)\n",
            "tensor(6.6901, dtype=torch.float64, grad_fn=<MeanBackward0>)\n",
            "tensor(6.4263, dtype=torch.float64, grad_fn=<MeanBackward0>)\n",
            "tensor(6.1740, dtype=torch.float64, grad_fn=<MeanBackward0>)\n",
            "tensor(5.9328, dtype=torch.float64, grad_fn=<MeanBackward0>)\n",
            "tensor(5.7021, dtype=torch.float64, grad_fn=<MeanBackward0>)\n",
            "tensor(5.4815, dtype=torch.float64, grad_fn=<MeanBackward0>)\n",
            "tensor(5.2706, dtype=torch.float64, grad_fn=<MeanBackward0>)\n",
            "tensor(5.0690, dtype=torch.float64, grad_fn=<MeanBackward0>)\n",
            "tensor(4.8762, dtype=torch.float64, grad_fn=<MeanBackward0>)\n",
            "tensor(4.6918, dtype=torch.float64, grad_fn=<MeanBackward0>)\n",
            "tensor(4.5155, dtype=torch.float64, grad_fn=<MeanBackward0>)\n",
            "tensor(4.3469, dtype=torch.float64, grad_fn=<MeanBackward0>)\n",
            "tensor(4.1857, dtype=torch.float64, grad_fn=<MeanBackward0>)\n",
            "tensor(4.0316, dtype=torch.float64, grad_fn=<MeanBackward0>)\n",
            "tensor(3.8842, dtype=torch.float64, grad_fn=<MeanBackward0>)\n",
            "tensor(3.7433, dtype=torch.float64, grad_fn=<MeanBackward0>)\n",
            "tensor(3.6085, dtype=torch.float64, grad_fn=<MeanBackward0>)\n",
            "tensor(3.4796, dtype=torch.float64, grad_fn=<MeanBackward0>)\n",
            "tensor(3.3564, dtype=torch.float64, grad_fn=<MeanBackward0>)\n",
            "tensor(3.2386, dtype=torch.float64, grad_fn=<MeanBackward0>)\n",
            "tensor(3.1260, dtype=torch.float64, grad_fn=<MeanBackward0>)\n",
            "tensor(3.0182, dtype=torch.float64, grad_fn=<MeanBackward0>)\n",
            "tensor(2.9152, dtype=torch.float64, grad_fn=<MeanBackward0>)\n",
            "tensor(2.8167, dtype=torch.float64, grad_fn=<MeanBackward0>)\n",
            "tensor(2.7226, dtype=torch.float64, grad_fn=<MeanBackward0>)\n",
            "tensor(2.6325, dtype=torch.float64, grad_fn=<MeanBackward0>)\n",
            "tensor(2.5464, dtype=torch.float64, grad_fn=<MeanBackward0>)\n",
            "tensor(2.4640, dtype=torch.float64, grad_fn=<MeanBackward0>)\n",
            "tensor(2.3853, dtype=torch.float64, grad_fn=<MeanBackward0>)\n",
            "tensor(2.3100, dtype=torch.float64, grad_fn=<MeanBackward0>)\n",
            "tensor(2.2380, dtype=torch.float64, grad_fn=<MeanBackward0>)\n",
            "tensor(2.1692, dtype=torch.float64, grad_fn=<MeanBackward0>)\n",
            "tensor(2.1033, dtype=torch.float64, grad_fn=<MeanBackward0>)\n",
            "tensor(2.0404, dtype=torch.float64, grad_fn=<MeanBackward0>)\n",
            "tensor(1.9802, dtype=torch.float64, grad_fn=<MeanBackward0>)\n",
            "tensor(1.9226, dtype=torch.float64, grad_fn=<MeanBackward0>)\n",
            "tensor(1.8676, dtype=torch.float64, grad_fn=<MeanBackward0>)\n",
            "tensor(1.8149, dtype=torch.float64, grad_fn=<MeanBackward0>)\n",
            "tensor(1.7646, dtype=torch.float64, grad_fn=<MeanBackward0>)\n",
            "tensor(1.7165, dtype=torch.float64, grad_fn=<MeanBackward0>)\n",
            "tensor(1.6704, dtype=torch.float64, grad_fn=<MeanBackward0>)\n",
            "tensor(1.6264, dtype=torch.float64, grad_fn=<MeanBackward0>)\n",
            "tensor(1.5843, dtype=torch.float64, grad_fn=<MeanBackward0>)\n",
            "tensor(1.5441, dtype=torch.float64, grad_fn=<MeanBackward0>)\n",
            "tensor(1.5056, dtype=torch.float64, grad_fn=<MeanBackward0>)\n",
            "tensor(1.4688, dtype=torch.float64, grad_fn=<MeanBackward0>)\n",
            "tensor(1.4336, dtype=torch.float64, grad_fn=<MeanBackward0>)\n",
            "tensor(1.3999, dtype=torch.float64, grad_fn=<MeanBackward0>)\n",
            "tensor(1.3677, dtype=torch.float64, grad_fn=<MeanBackward0>)\n",
            "tensor(1.3370, dtype=torch.float64, grad_fn=<MeanBackward0>)\n",
            "tensor(1.3075, dtype=torch.float64, grad_fn=<MeanBackward0>)\n",
            "tensor(1.2794, dtype=torch.float64, grad_fn=<MeanBackward0>)\n",
            "tensor(1.2525, dtype=torch.float64, grad_fn=<MeanBackward0>)\n",
            "tensor(1.2267, dtype=torch.float64, grad_fn=<MeanBackward0>)\n",
            "tensor(1.2021, dtype=torch.float64, grad_fn=<MeanBackward0>)\n",
            "tensor(1.1785, dtype=torch.float64, grad_fn=<MeanBackward0>)\n",
            "tensor(1.1560, dtype=torch.float64, grad_fn=<MeanBackward0>)\n",
            "tensor(1.1345, dtype=torch.float64, grad_fn=<MeanBackward0>)\n",
            "tensor(1.1139, dtype=torch.float64, grad_fn=<MeanBackward0>)\n",
            "tensor(1.0942, dtype=torch.float64, grad_fn=<MeanBackward0>)\n",
            "tensor(1.0754, dtype=torch.float64, grad_fn=<MeanBackward0>)\n",
            "tensor(1.0573, dtype=torch.float64, grad_fn=<MeanBackward0>)\n",
            "tensor(1.0401, dtype=torch.float64, grad_fn=<MeanBackward0>)\n",
            "tensor(1.0236, dtype=torch.float64, grad_fn=<MeanBackward0>)\n",
            "tensor(1.0079, dtype=torch.float64, grad_fn=<MeanBackward0>)\n",
            "tensor(0.9928, dtype=torch.float64, grad_fn=<MeanBackward0>)\n",
            "tensor(0.9784, dtype=torch.float64, grad_fn=<MeanBackward0>)\n"
          ],
          "name": "stdout"
        }
      ]
    }
  ]
}